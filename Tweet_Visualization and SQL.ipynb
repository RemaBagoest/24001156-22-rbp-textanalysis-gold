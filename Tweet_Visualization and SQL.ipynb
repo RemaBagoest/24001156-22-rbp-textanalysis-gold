{
 "cells": [
  {
   "cell_type": "code",
   "execution_count": 1,
   "metadata": {},
   "outputs": [],
   "source": [
    "# importing library for data processing\n",
    "import pandas as pd\n",
    "import numpy as np\n",
    "import matplotlib.pyplot as plt\n",
    "# import sql library\n",
    "import sqlite3\n",
    "# import text library for cleaning text data \n",
    "import re\n",
    "# import  API library \n",
    "import flask\n",
    "import flasgger\n",
    "import seaborn as sns"
   ]
  },
  {
   "cell_type": "code",
   "execution_count": 2,
   "metadata": {},
   "outputs": [],
   "source": [
    "data  =  pd.read_csv('data/data.csv', encoding = 'latin-1')\n",
    "kamusalay = pd.read_csv('data/new_kamusalay.csv', encoding='latin-1', header=None)\n",
    "abusive_dict = pd.read_csv('data/abusive.csv', encoding='latin-1', header=None)"
   ]
  },
  {
   "cell_type": "code",
   "execution_count": 3,
   "metadata": {},
   "outputs": [
    {
     "data": {
      "text/html": [
       "<div>\n",
       "<style scoped>\n",
       "    .dataframe tbody tr th:only-of-type {\n",
       "        vertical-align: middle;\n",
       "    }\n",
       "\n",
       "    .dataframe tbody tr th {\n",
       "        vertical-align: top;\n",
       "    }\n",
       "\n",
       "    .dataframe thead th {\n",
       "        text-align: right;\n",
       "    }\n",
       "</style>\n",
       "<table border=\"1\" class=\"dataframe\">\n",
       "  <thead>\n",
       "    <tr style=\"text-align: right;\">\n",
       "      <th></th>\n",
       "      <th>Tweet</th>\n",
       "      <th>HS</th>\n",
       "      <th>Abusive</th>\n",
       "      <th>HS_Individual</th>\n",
       "      <th>HS_Group</th>\n",
       "      <th>HS_Religion</th>\n",
       "      <th>HS_Race</th>\n",
       "      <th>HS_Physical</th>\n",
       "      <th>HS_Gender</th>\n",
       "      <th>HS_Other</th>\n",
       "      <th>HS_Weak</th>\n",
       "      <th>HS_Moderate</th>\n",
       "      <th>HS_Strong</th>\n",
       "    </tr>\n",
       "  </thead>\n",
       "  <tbody>\n",
       "    <tr>\n",
       "      <th>0</th>\n",
       "      <td>- disaat semua cowok berusaha melacak perhatia...</td>\n",
       "      <td>1</td>\n",
       "      <td>1</td>\n",
       "      <td>1</td>\n",
       "      <td>0</td>\n",
       "      <td>0</td>\n",
       "      <td>0</td>\n",
       "      <td>0</td>\n",
       "      <td>0</td>\n",
       "      <td>1</td>\n",
       "      <td>1</td>\n",
       "      <td>0</td>\n",
       "      <td>0</td>\n",
       "    </tr>\n",
       "    <tr>\n",
       "      <th>1</th>\n",
       "      <td>RT USER: USER siapa yang telat ngasih tau elu?...</td>\n",
       "      <td>0</td>\n",
       "      <td>1</td>\n",
       "      <td>0</td>\n",
       "      <td>0</td>\n",
       "      <td>0</td>\n",
       "      <td>0</td>\n",
       "      <td>0</td>\n",
       "      <td>0</td>\n",
       "      <td>0</td>\n",
       "      <td>0</td>\n",
       "      <td>0</td>\n",
       "      <td>0</td>\n",
       "    </tr>\n",
       "    <tr>\n",
       "      <th>2</th>\n",
       "      <td>41. Kadang aku berfikir, kenapa aku tetap perc...</td>\n",
       "      <td>0</td>\n",
       "      <td>0</td>\n",
       "      <td>0</td>\n",
       "      <td>0</td>\n",
       "      <td>0</td>\n",
       "      <td>0</td>\n",
       "      <td>0</td>\n",
       "      <td>0</td>\n",
       "      <td>0</td>\n",
       "      <td>0</td>\n",
       "      <td>0</td>\n",
       "      <td>0</td>\n",
       "    </tr>\n",
       "    <tr>\n",
       "      <th>3</th>\n",
       "      <td>USER USER AKU ITU AKU\\n\\nKU TAU MATAMU SIPIT T...</td>\n",
       "      <td>0</td>\n",
       "      <td>0</td>\n",
       "      <td>0</td>\n",
       "      <td>0</td>\n",
       "      <td>0</td>\n",
       "      <td>0</td>\n",
       "      <td>0</td>\n",
       "      <td>0</td>\n",
       "      <td>0</td>\n",
       "      <td>0</td>\n",
       "      <td>0</td>\n",
       "      <td>0</td>\n",
       "    </tr>\n",
       "    <tr>\n",
       "      <th>4</th>\n",
       "      <td>USER USER Kaum cebong kapir udah keliatan dong...</td>\n",
       "      <td>1</td>\n",
       "      <td>1</td>\n",
       "      <td>0</td>\n",
       "      <td>1</td>\n",
       "      <td>1</td>\n",
       "      <td>0</td>\n",
       "      <td>0</td>\n",
       "      <td>0</td>\n",
       "      <td>0</td>\n",
       "      <td>0</td>\n",
       "      <td>1</td>\n",
       "      <td>0</td>\n",
       "    </tr>\n",
       "    <tr>\n",
       "      <th>...</th>\n",
       "      <td>...</td>\n",
       "      <td>...</td>\n",
       "      <td>...</td>\n",
       "      <td>...</td>\n",
       "      <td>...</td>\n",
       "      <td>...</td>\n",
       "      <td>...</td>\n",
       "      <td>...</td>\n",
       "      <td>...</td>\n",
       "      <td>...</td>\n",
       "      <td>...</td>\n",
       "      <td>...</td>\n",
       "      <td>...</td>\n",
       "    </tr>\n",
       "    <tr>\n",
       "      <th>13164</th>\n",
       "      <td>USER jangan asal ngomong ndasmu. congor lu yg ...</td>\n",
       "      <td>1</td>\n",
       "      <td>1</td>\n",
       "      <td>1</td>\n",
       "      <td>0</td>\n",
       "      <td>0</td>\n",
       "      <td>0</td>\n",
       "      <td>1</td>\n",
       "      <td>0</td>\n",
       "      <td>0</td>\n",
       "      <td>1</td>\n",
       "      <td>0</td>\n",
       "      <td>0</td>\n",
       "    </tr>\n",
       "    <tr>\n",
       "      <th>13165</th>\n",
       "      <td>USER Kasur mana enak kunyuk'</td>\n",
       "      <td>0</td>\n",
       "      <td>1</td>\n",
       "      <td>0</td>\n",
       "      <td>0</td>\n",
       "      <td>0</td>\n",
       "      <td>0</td>\n",
       "      <td>0</td>\n",
       "      <td>0</td>\n",
       "      <td>0</td>\n",
       "      <td>0</td>\n",
       "      <td>0</td>\n",
       "      <td>0</td>\n",
       "    </tr>\n",
       "    <tr>\n",
       "      <th>13166</th>\n",
       "      <td>USER Hati hati bisu :( .g\\n\\nlagi bosan huft \\...</td>\n",
       "      <td>0</td>\n",
       "      <td>0</td>\n",
       "      <td>0</td>\n",
       "      <td>0</td>\n",
       "      <td>0</td>\n",
       "      <td>0</td>\n",
       "      <td>0</td>\n",
       "      <td>0</td>\n",
       "      <td>0</td>\n",
       "      <td>0</td>\n",
       "      <td>0</td>\n",
       "      <td>0</td>\n",
       "    </tr>\n",
       "    <tr>\n",
       "      <th>13167</th>\n",
       "      <td>USER USER USER USER Bom yang real mudah terdet...</td>\n",
       "      <td>0</td>\n",
       "      <td>0</td>\n",
       "      <td>0</td>\n",
       "      <td>0</td>\n",
       "      <td>0</td>\n",
       "      <td>0</td>\n",
       "      <td>0</td>\n",
       "      <td>0</td>\n",
       "      <td>0</td>\n",
       "      <td>0</td>\n",
       "      <td>0</td>\n",
       "      <td>0</td>\n",
       "    </tr>\n",
       "    <tr>\n",
       "      <th>13168</th>\n",
       "      <td>USER Mana situ ngasih(\": itu cuma foto ya kuti...</td>\n",
       "      <td>1</td>\n",
       "      <td>1</td>\n",
       "      <td>1</td>\n",
       "      <td>0</td>\n",
       "      <td>0</td>\n",
       "      <td>0</td>\n",
       "      <td>0</td>\n",
       "      <td>0</td>\n",
       "      <td>1</td>\n",
       "      <td>1</td>\n",
       "      <td>0</td>\n",
       "      <td>0</td>\n",
       "    </tr>\n",
       "  </tbody>\n",
       "</table>\n",
       "<p>13169 rows × 13 columns</p>\n",
       "</div>"
      ],
      "text/plain": [
       "                                                   Tweet  HS  Abusive  \\\n",
       "0      - disaat semua cowok berusaha melacak perhatia...   1        1   \n",
       "1      RT USER: USER siapa yang telat ngasih tau elu?...   0        1   \n",
       "2      41. Kadang aku berfikir, kenapa aku tetap perc...   0        0   \n",
       "3      USER USER AKU ITU AKU\\n\\nKU TAU MATAMU SIPIT T...   0        0   \n",
       "4      USER USER Kaum cebong kapir udah keliatan dong...   1        1   \n",
       "...                                                  ...  ..      ...   \n",
       "13164  USER jangan asal ngomong ndasmu. congor lu yg ...   1        1   \n",
       "13165                       USER Kasur mana enak kunyuk'   0        1   \n",
       "13166  USER Hati hati bisu :( .g\\n\\nlagi bosan huft \\...   0        0   \n",
       "13167  USER USER USER USER Bom yang real mudah terdet...   0        0   \n",
       "13168  USER Mana situ ngasih(\": itu cuma foto ya kuti...   1        1   \n",
       "\n",
       "       HS_Individual  HS_Group  HS_Religion  HS_Race  HS_Physical  HS_Gender  \\\n",
       "0                  1         0            0        0            0          0   \n",
       "1                  0         0            0        0            0          0   \n",
       "2                  0         0            0        0            0          0   \n",
       "3                  0         0            0        0            0          0   \n",
       "4                  0         1            1        0            0          0   \n",
       "...              ...       ...          ...      ...          ...        ...   \n",
       "13164              1         0            0        0            1          0   \n",
       "13165              0         0            0        0            0          0   \n",
       "13166              0         0            0        0            0          0   \n",
       "13167              0         0            0        0            0          0   \n",
       "13168              1         0            0        0            0          0   \n",
       "\n",
       "       HS_Other  HS_Weak  HS_Moderate  HS_Strong  \n",
       "0             1        1            0          0  \n",
       "1             0        0            0          0  \n",
       "2             0        0            0          0  \n",
       "3             0        0            0          0  \n",
       "4             0        0            1          0  \n",
       "...         ...      ...          ...        ...  \n",
       "13164         0        1            0          0  \n",
       "13165         0        0            0          0  \n",
       "13166         0        0            0          0  \n",
       "13167         0        0            0          0  \n",
       "13168         1        1            0          0  \n",
       "\n",
       "[13169 rows x 13 columns]"
      ]
     },
     "execution_count": 3,
     "metadata": {},
     "output_type": "execute_result"
    }
   ],
   "source": [
    "data"
   ]
  },
  {
   "cell_type": "code",
   "execution_count": 4,
   "metadata": {},
   "outputs": [
    {
     "name": "stdout",
     "output_type": "stream",
     "text": [
      "<class 'pandas.core.frame.DataFrame'>\n",
      "RangeIndex: 13169 entries, 0 to 13168\n",
      "Data columns (total 13 columns):\n",
      " #   Column         Non-Null Count  Dtype \n",
      "---  ------         --------------  ----- \n",
      " 0   Tweet          13169 non-null  object\n",
      " 1   HS             13169 non-null  int64 \n",
      " 2   Abusive        13169 non-null  int64 \n",
      " 3   HS_Individual  13169 non-null  int64 \n",
      " 4   HS_Group       13169 non-null  int64 \n",
      " 5   HS_Religion    13169 non-null  int64 \n",
      " 6   HS_Race        13169 non-null  int64 \n",
      " 7   HS_Physical    13169 non-null  int64 \n",
      " 8   HS_Gender      13169 non-null  int64 \n",
      " 9   HS_Other       13169 non-null  int64 \n",
      " 10  HS_Weak        13169 non-null  int64 \n",
      " 11  HS_Moderate    13169 non-null  int64 \n",
      " 12  HS_Strong      13169 non-null  int64 \n",
      "dtypes: int64(12), object(1)\n",
      "memory usage: 1.3+ MB\n"
     ]
    }
   ],
   "source": [
    "data.info()"
   ]
  },
  {
   "cell_type": "code",
   "execution_count": 5,
   "metadata": {},
   "outputs": [
    {
     "data": {
      "text/plain": [
       "np.int64(125)"
      ]
     },
     "execution_count": 5,
     "metadata": {},
     "output_type": "execute_result"
    }
   ],
   "source": [
    "data.duplicated().sum()"
   ]
  },
  {
   "cell_type": "code",
   "execution_count": 6,
   "metadata": {},
   "outputs": [
    {
     "data": {
      "text/plain": [
       "Tweet            0\n",
       "HS               0\n",
       "Abusive          0\n",
       "HS_Individual    0\n",
       "HS_Group         0\n",
       "HS_Religion      0\n",
       "HS_Race          0\n",
       "HS_Physical      0\n",
       "HS_Gender        0\n",
       "HS_Other         0\n",
       "HS_Weak          0\n",
       "HS_Moderate      0\n",
       "HS_Strong        0\n",
       "dtype: int64"
      ]
     },
     "execution_count": 6,
     "metadata": {},
     "output_type": "execute_result"
    }
   ],
   "source": [
    "data.isna().sum()"
   ]
  },
  {
   "cell_type": "markdown",
   "metadata": {},
   "source": [
    "# Data Visualization and Analysis"
   ]
  },
  {
   "cell_type": "code",
   "execution_count": 7,
   "metadata": {},
   "outputs": [
    {
     "data": {
      "text/plain": [
       "Abusive\n",
       "0    8126\n",
       "1    5043\n",
       "Name: count, dtype: int64"
      ]
     },
     "execution_count": 7,
     "metadata": {},
     "output_type": "execute_result"
    }
   ],
   "source": [
    "data.Abusive.value_counts()"
   ]
  },
  {
   "cell_type": "code",
   "execution_count": 8,
   "metadata": {},
   "outputs": [
    {
     "data": {
      "text/plain": [
       "HS_Individual\n",
       "0    9594\n",
       "1    3575\n",
       "Name: count, dtype: int64"
      ]
     },
     "execution_count": 8,
     "metadata": {},
     "output_type": "execute_result"
    }
   ],
   "source": [
    "data.HS_Individual.value_counts()"
   ]
  },
  {
   "cell_type": "code",
   "execution_count": 9,
   "metadata": {},
   "outputs": [
    {
     "data": {
      "text/plain": [
       "HS_Group\n",
       "0    11183\n",
       "1     1986\n",
       "Name: count, dtype: int64"
      ]
     },
     "execution_count": 9,
     "metadata": {},
     "output_type": "execute_result"
    }
   ],
   "source": [
    "data.HS_Group.value_counts()"
   ]
  },
  {
   "cell_type": "code",
   "execution_count": 10,
   "metadata": {},
   "outputs": [
    {
     "data": {
      "text/plain": [
       "HS_Religion\n",
       "0    12376\n",
       "1      793\n",
       "Name: count, dtype: int64"
      ]
     },
     "execution_count": 10,
     "metadata": {},
     "output_type": "execute_result"
    }
   ],
   "source": [
    "data.HS_Religion.value_counts()"
   ]
  },
  {
   "cell_type": "code",
   "execution_count": 11,
   "metadata": {},
   "outputs": [
    {
     "data": {
      "text/html": [
       "<div>\n",
       "<style scoped>\n",
       "    .dataframe tbody tr th:only-of-type {\n",
       "        vertical-align: middle;\n",
       "    }\n",
       "\n",
       "    .dataframe tbody tr th {\n",
       "        vertical-align: top;\n",
       "    }\n",
       "\n",
       "    .dataframe thead th {\n",
       "        text-align: right;\n",
       "    }\n",
       "</style>\n",
       "<table border=\"1\" class=\"dataframe\">\n",
       "  <thead>\n",
       "    <tr style=\"text-align: right;\">\n",
       "      <th></th>\n",
       "      <th>Tweet</th>\n",
       "      <th>HS</th>\n",
       "      <th>Abusive</th>\n",
       "      <th>HS_Individual</th>\n",
       "      <th>HS_Group</th>\n",
       "      <th>HS_Religion</th>\n",
       "      <th>HS_Race</th>\n",
       "      <th>HS_Physical</th>\n",
       "      <th>HS_Gender</th>\n",
       "      <th>HS_Other</th>\n",
       "      <th>HS_Weak</th>\n",
       "      <th>HS_Moderate</th>\n",
       "      <th>HS_Strong</th>\n",
       "    </tr>\n",
       "  </thead>\n",
       "  <tbody>\n",
       "    <tr>\n",
       "      <th>0</th>\n",
       "      <td>- disaat semua cowok berusaha melacak perhatia...</td>\n",
       "      <td>1</td>\n",
       "      <td>1</td>\n",
       "      <td>1</td>\n",
       "      <td>0</td>\n",
       "      <td>0</td>\n",
       "      <td>0</td>\n",
       "      <td>0</td>\n",
       "      <td>0</td>\n",
       "      <td>1</td>\n",
       "      <td>1</td>\n",
       "      <td>0</td>\n",
       "      <td>0</td>\n",
       "    </tr>\n",
       "    <tr>\n",
       "      <th>1</th>\n",
       "      <td>RT USER: USER siapa yang telat ngasih tau elu?...</td>\n",
       "      <td>0</td>\n",
       "      <td>1</td>\n",
       "      <td>0</td>\n",
       "      <td>0</td>\n",
       "      <td>0</td>\n",
       "      <td>0</td>\n",
       "      <td>0</td>\n",
       "      <td>0</td>\n",
       "      <td>0</td>\n",
       "      <td>0</td>\n",
       "      <td>0</td>\n",
       "      <td>0</td>\n",
       "    </tr>\n",
       "    <tr>\n",
       "      <th>2</th>\n",
       "      <td>41. Kadang aku berfikir, kenapa aku tetap perc...</td>\n",
       "      <td>0</td>\n",
       "      <td>0</td>\n",
       "      <td>0</td>\n",
       "      <td>0</td>\n",
       "      <td>0</td>\n",
       "      <td>0</td>\n",
       "      <td>0</td>\n",
       "      <td>0</td>\n",
       "      <td>0</td>\n",
       "      <td>0</td>\n",
       "      <td>0</td>\n",
       "      <td>0</td>\n",
       "    </tr>\n",
       "  </tbody>\n",
       "</table>\n",
       "</div>"
      ],
      "text/plain": [
       "                                               Tweet  HS  Abusive  \\\n",
       "0  - disaat semua cowok berusaha melacak perhatia...   1        1   \n",
       "1  RT USER: USER siapa yang telat ngasih tau elu?...   0        1   \n",
       "2  41. Kadang aku berfikir, kenapa aku tetap perc...   0        0   \n",
       "\n",
       "   HS_Individual  HS_Group  HS_Religion  HS_Race  HS_Physical  HS_Gender  \\\n",
       "0              1         0            0        0            0          0   \n",
       "1              0         0            0        0            0          0   \n",
       "2              0         0            0        0            0          0   \n",
       "\n",
       "   HS_Other  HS_Weak  HS_Moderate  HS_Strong  \n",
       "0         1        1            0          0  \n",
       "1         0        0            0          0  \n",
       "2         0        0            0          0  "
      ]
     },
     "execution_count": 11,
     "metadata": {},
     "output_type": "execute_result"
    }
   ],
   "source": [
    "data.head(3)"
   ]
  },
  {
   "cell_type": "code",
   "execution_count": 45,
   "metadata": {},
   "outputs": [
    {
     "name": "stderr",
     "output_type": "stream",
     "text": [
      "C:\\Users\\user\\AppData\\Local\\Temp\\ipykernel_8312\\952601935.py:19: FutureWarning: \n",
      "\n",
      "Passing `palette` without assigning `hue` is deprecated and will be removed in v0.14.0. Assign the `x` variable to `hue` and set `legend=False` for the same effect.\n",
      "\n",
      "  sns.countplot(ax=axes[0, 0], x='HS', data=data, palette =custom_colors)\n",
      "C:\\Users\\user\\AppData\\Local\\Temp\\ipykernel_8312\\952601935.py:19: UserWarning: The palette list has more values (4) than needed (2), which may not be intended.\n",
      "  sns.countplot(ax=axes[0, 0], x='HS', data=data, palette =custom_colors)\n",
      "C:\\Users\\user\\AppData\\Local\\Temp\\ipykernel_8312\\952601935.py:26: FutureWarning: \n",
      "\n",
      "Passing `palette` without assigning `hue` is deprecated and will be removed in v0.14.0. Assign the `x` variable to `hue` and set `legend=False` for the same effect.\n",
      "\n",
      "  sns.countplot(ax=axes[0, 1], x='Abusive', data=data,palette =custom_colors)\n",
      "C:\\Users\\user\\AppData\\Local\\Temp\\ipykernel_8312\\952601935.py:26: UserWarning: The palette list has more values (4) than needed (2), which may not be intended.\n",
      "  sns.countplot(ax=axes[0, 1], x='Abusive', data=data,palette =custom_colors)\n",
      "C:\\Users\\user\\AppData\\Local\\Temp\\ipykernel_8312\\952601935.py:37: FutureWarning: \n",
      "\n",
      "Passing `palette` without assigning `hue` is deprecated and will be removed in v0.14.0. Assign the `y` variable to `hue` and set `legend=False` for the same effect.\n",
      "\n",
      "  sns.barplot(ax=axes[1, 0], x='Count', y='Type', data=hs_counts,palette =custom_colors)\n",
      "C:\\Users\\user\\AppData\\Local\\Temp\\ipykernel_8312\\952601935.py:37: UserWarning: \n",
      "The palette list has fewer values (4) than needed (7) and will cycle, which may produce an uninterpretable plot.\n",
      "  sns.barplot(ax=axes[1, 0], x='Count', y='Type', data=hs_counts,palette =custom_colors)\n",
      "C:\\Users\\user\\AppData\\Local\\Temp\\ipykernel_8312\\952601935.py:48: FutureWarning: \n",
      "\n",
      "Passing `palette` without assigning `hue` is deprecated and will be removed in v0.14.0. Assign the `y` variable to `hue` and set `legend=False` for the same effect.\n",
      "\n",
      "  sns.barplot(ax=axes[1, 1], x='Count', y='Severity', data=severity_counts,palette =custom_colors)\n",
      "C:\\Users\\user\\AppData\\Local\\Temp\\ipykernel_8312\\952601935.py:48: UserWarning: The palette list has more values (4) than needed (3), which may not be intended.\n",
      "  sns.barplot(ax=axes[1, 1], x='Count', y='Severity', data=severity_counts,palette =custom_colors)\n"
     ]
    },
    {
     "data": {
      "image/png": "[encoded data removed]",
      "text/plain": [
       "<Figure size 1800x1600 with 4 Axes>"
      ]
     },
     "metadata": {},
     "output_type": "display_data"
    }
   ],
   "source": [
    "import matplotlib.pyplot as plt\n",
    "import seaborn as sns\n",
    "from matplotlib import font_manager\n",
    "\n",
    "# Path to the Poppins font file (update this to the correct path)\n",
    "font_path = 'C:/Users/user/Downloads/FONT REMA/Poppins-Black.ttf'\n",
    "font_prop = font_manager.FontProperties(fname=font_path)\n",
    "font_manager.fontManager.addfont(font_path)\n",
    "\n",
    "# Set the font globally\n",
    "plt.rcParams['font.family'] = font_prop.get_name()\n",
    "\n",
    "# Set up the figure and axis\n",
    "fig, axes = plt.subplots(2, 2, figsize=(18, 16))\n",
    "\n",
    "custom_colors = ['#FFC300', '#FF0000','#5034C4', '#4BACC6']\n",
    "\n",
    "# Plot 1: Distribution of Hate Speech (HS) and Abusive tweets\n",
    "sns.countplot(ax=axes[0, 0], x='HS', data=data, palette =custom_colors)\n",
    "axes[0, 0].set_title('Distribution of Hate Speech (HS)')\n",
    "axes[0, 0].set_xlabel('Hate Speech')\n",
    "axes[0, 0].set_ylabel('Count')\n",
    "for p in axes[0, 0].patches:\n",
    "    axes[0, 0].annotate(f'{p.get_height()}', (p.get_x() + p.get_width() / 2., p.get_height()), ha='center', va='center', xytext=(0, 9), textcoords='offset points')\n",
    "\n",
    "sns.countplot(ax=axes[0, 1], x='Abusive', data=data,palette =custom_colors)\n",
    "axes[0, 1].set_title('Distribution of Abusive Tweets')\n",
    "axes[0, 1].set_xlabel('Abusive')\n",
    "axes[0, 1].set_ylabel('Count')\n",
    "for p in axes[0, 1].patches:\n",
    "    axes[0, 1].annotate(f'{p.get_height()}', (p.get_x() + p.get_width() / 2., p.get_height()), ha='center', va='center', xytext=(0, 9), textcoords='offset points')\n",
    "\n",
    "# Plot 2: Distribution of types of Hate Speech\n",
    "hs_types = ['HS_Individual', 'HS_Group', 'HS_Religion', 'HS_Race', 'HS_Physical', 'HS_Gender', 'HS_Other']\n",
    "hs_counts = data[hs_types].sum().reset_index()\n",
    "hs_counts.columns = ['Type', 'Count']\n",
    "sns.barplot(ax=axes[1, 0], x='Count', y='Type', data=hs_counts,palette =custom_colors)\n",
    "axes[1, 0].set_title('Distribution of Types of Hate Speech')\n",
    "axes[1, 0].set_xlabel('Count')\n",
    "axes[1, 0].set_ylabel('Type')\n",
    "for p in axes[1, 0].patches:\n",
    "    axes[1, 0].annotate(f'{p.get_width()}', (p.get_width(), p.get_y() + p.get_height() / 2.), ha='center', va='center', xytext=(9, 0), textcoords='offset points')\n",
    "\n",
    "# Plot 3: Distribution of severity levels of Hate Speech\n",
    "hs_severity = ['HS_Weak', 'HS_Moderate', 'HS_Strong']\n",
    "severity_counts = data[hs_severity].sum().reset_index()\n",
    "severity_counts.columns = ['Severity', 'Count']\n",
    "sns.barplot(ax=axes[1, 1], x='Count', y='Severity', data=severity_counts,palette =custom_colors)\n",
    "axes[1, 1].set_title('Distribution of Severity Levels of Hate Speech')\n",
    "axes[1, 1].set_xlabel('Count')\n",
    "axes[1, 1].set_ylabel('Severity')\n",
    "for p in axes[1, 1].patches:\n",
    "    axes[1, 1].annotate(f'{p.get_width()}', (p.get_width(), p.get_y() + p.get_height() / 2.), ha='center', va='center', xytext=(9, 0), textcoords='offset points')\n",
    "\n",
    "# Adjust layout\n",
    "plt.tight_layout()\n",
    "\n",
    "# Show the plot\n",
    "plt.show()\n"
   ]
  },
  {
   "cell_type": "markdown",
   "metadata": {},
   "source": [
    "# Store Cleaned Data from API to sqlite3"
   ]
  },
  {
   "cell_type": "code",
   "execution_count": 3,
   "metadata": {},
   "outputs": [],
   "source": [
    "import sqlite3\n",
    "\n",
    "# Connect to SQLite database (or create it if it doesn't exist)\n",
    "conn = sqlite3.connect('D:/Rema Workspace/portofolio_data/binar_challenge/database/tweets.db')\n",
    "c = conn.cursor()\n",
    "\n",
    "# Create table\n",
    "c.execute('''\n",
    "    CREATE TABLE IF NOT EXISTS tweets (\n",
    "        Tweet TEXT, \n",
    "        HS INTEGER, \n",
    "        Abusive INTEGER, \n",
    "        HS_Individual INTEGER, \n",
    "        HS_Group INTEGER, \n",
    "        HS_Religion INTEGER, \n",
    "        HS_Race INTEGER, \n",
    "        HS_Physical INTEGER, \n",
    "        HS_Gender INTEGER, \n",
    "        HS_Other INTEGER, \n",
    "        HS_Weak INTEGER, \n",
    "        HS_Moderate INTEGER, \n",
    "        HS_Strong INTEGER\n",
    "    )\n",
    "''')\n",
    "\n",
    "# Commit the changes and close the connection\n",
    "conn.commit()\n",
    "conn.close()"
   ]
  },
  {
   "cell_type": "code",
   "execution_count": 5,
   "metadata": {},
   "outputs": [],
   "source": [
    "import json\n",
    "\n",
    "# Load the JSON data\n",
    "with open('D:/Rema Workspace/portofolio_data/binar_challenge/Cleaned_Tweet_data.json', 'r', encoding='utf-8') as file:\n",
    "    data = json.load(file)\n",
    "\n",
    "# Extract the data\n",
    "tweets = data['data']\n",
    "\n",
    "# Prepare the data for insertion\n",
    "rows = [(tweet,) + (0, 0, 0, 0, 0, 0, 0, 0, 0, 0, 0, 0) for tweet in tweets]  # Adjust the values as necessary\n"
   ]
  },
  {
   "cell_type": "code",
   "execution_count": 7,
   "metadata": {},
   "outputs": [],
   "source": [
    "# Reconnect to the database\n",
    "conn = sqlite3.connect('D:/Rema Workspace/portofolio_data/binar_challenge/database/tweets.db')\n",
    "c = conn.cursor()\n",
    "\n",
    "# Insert the data\n",
    "c.executemany('''\n",
    "    INSERT INTO tweets (\n",
    "        Tweet, HS, Abusive, HS_Individual, HS_Group, \n",
    "        HS_Religion, HS_Race, HS_Physical, HS_Gender, \n",
    "        HS_Other, HS_Weak, HS_Moderate, HS_Strong\n",
    "    ) VALUES (?, ?, ?, ?, ?, ?, ?, ?, ?, ?, ?, ?, ?)\n",
    "''', rows)\n",
    "\n",
    "# Commit the changes and close the connection\n",
    "conn.commit()\n",
    "conn.close()"
   ]
  }
 ],
 "metadata": {
  "kernelspec": {
   "display_name": "Python 3.11.7 ('env': venv)",
   "language": "python",
   "name": "python3"
  },
  "language_info": {
   "codemirror_mode": {
    "name": "ipython",
    "version": 3
   },
   "file_extension": ".py",
   "mimetype": "text/x-python",
   "name": "python",
   "nbconvert_exporter": "python",
   "pygments_lexer": "ipython3",
   "version": "3.11.7"
  },
  "orig_nbformat": 4,
  "vscode": {
   "interpreter": {
    "hash": "65d61882033341ee3749cb54587a8598a4db65d1eef788dc3de4915a1ff8de60"
   }
  }
 },
 "nbformat": 4,
 "nbformat_minor": 2
}
